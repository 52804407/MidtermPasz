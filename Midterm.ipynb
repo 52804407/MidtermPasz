{
 "cells": [
  {
   "cell_type": "code",
   "execution_count": null,
   "metadata": {},
   "outputs": [],
   "source": [
    "#Test push 1."
   ]
  },
  {
   "cell_type": "code",
   "execution_count": 5,
   "metadata": {},
   "outputs": [],
   "source": [
    "import pandas as pd\n",
    "import requests\n",
    "import matplotlib.pyplot as plt\n",
    "import numpy as np\n",
    "import datetime\n",
    "import zipfile\n",
    "import math\n",
    "\n"
   ]
  },
  {
   "cell_type": "code",
   "execution_count": 52,
   "metadata": {},
   "outputs": [],
   "source": [
    "#TASK 1"
   ]
  },
  {
   "cell_type": "code",
   "execution_count": 16,
   "metadata": {},
   "outputs": [],
   "source": [
    "with zipfile.ZipFile(\"52804407.zip\") as z:\n",
    "    with z.open(\"data/ABC.csv\") as f:\n",
    "        ABC = pd.read_csv(f, index_col = [\"Date\"], parse_dates=['Date'])\n",
    "\n",
    "with zipfile.ZipFile(\"52804407.zip\") as z:\n",
    "    with z.open(\"data/CTAS.csv\") as f:\n",
    "        CTAS = pd.read_csv(f, index_col = [\"Date\"], parse_dates=['Date'])\n",
    "\n",
    "with zipfile.ZipFile(\"52804407.zip\") as z:\n",
    "    with z.open(\"data/DPZ.csv\") as f:\n",
    "        DPZ = pd.read_csv(f, index_col = [\"Date\"], parse_dates=['Date'])\n",
    "\n",
    "with zipfile.ZipFile(\"52804407.zip\") as z:\n",
    "    with z.open(\"data/EA.csv\") as f:\n",
    "        EA = pd.read_csv(f, index_col = [\"Date\"], parse_dates=['Date'])\n",
    "\n",
    "with zipfile.ZipFile(\"52804407.zip\") as z:\n",
    "    with z.open(\"data/MAR.csv\") as f:\n",
    "        MAR = pd.read_csv(f, index_col = [\"Date\"], parse_dates=['Date'])\n"
   ]
  },
  {
   "cell_type": "code",
   "execution_count": 19,
   "metadata": {},
   "outputs": [
    {
     "data": {
      "text/plain": [
       "Date\n",
       "2017-11-13    False\n",
       "2017-11-14    False\n",
       "2017-11-15    False\n",
       "2017-11-16    False\n",
       "2017-11-17    False\n",
       "              ...  \n",
       "2022-11-07    False\n",
       "2022-11-08    False\n",
       "2022-11-09    False\n",
       "2022-11-10     True\n",
       "2022-11-11     True\n",
       "Length: 1259, dtype: bool"
      ]
     },
     "execution_count": 19,
     "metadata": {},
     "output_type": "execute_result"
    }
   ],
   "source": [
    "ABC[\"Close\"] == ABC[\"Adj Close\"]\n",
    "\n"
   ]
  },
  {
   "cell_type": "code",
   "execution_count": 20,
   "metadata": {},
   "outputs": [
    {
     "data": {
      "text/plain": [
       "Date\n",
       "2017-11-13    False\n",
       "2017-11-14    False\n",
       "2017-11-15    False\n",
       "2017-11-16    False\n",
       "2017-11-17    False\n",
       "              ...  \n",
       "2022-11-07     True\n",
       "2022-11-08     True\n",
       "2022-11-09     True\n",
       "2022-11-10     True\n",
       "2022-11-11     True\n",
       "Length: 1259, dtype: bool"
      ]
     },
     "execution_count": 20,
     "metadata": {},
     "output_type": "execute_result"
    }
   ],
   "source": [
    "CTAS[\"Close\"] == CTAS[\"Adj Close\"]"
   ]
  },
  {
   "cell_type": "code",
   "execution_count": 21,
   "metadata": {},
   "outputs": [
    {
     "data": {
      "text/plain": [
       "Date\n",
       "2017-11-13    False\n",
       "2017-11-14    False\n",
       "2017-11-15    False\n",
       "2017-11-16    False\n",
       "2017-11-17    False\n",
       "              ...  \n",
       "2022-11-07     True\n",
       "2022-11-08     True\n",
       "2022-11-09     True\n",
       "2022-11-10     True\n",
       "2022-11-11     True\n",
       "Length: 1259, dtype: bool"
      ]
     },
     "execution_count": 21,
     "metadata": {},
     "output_type": "execute_result"
    }
   ],
   "source": [
    "DPZ[\"Close\"] == DPZ[\"Adj Close\"]\n"
   ]
  },
  {
   "cell_type": "code",
   "execution_count": 22,
   "metadata": {},
   "outputs": [
    {
     "data": {
      "text/plain": [
       "Date\n",
       "2017-11-13    False\n",
       "2017-11-14    False\n",
       "2017-11-15    False\n",
       "2017-11-16    False\n",
       "2017-11-17    False\n",
       "              ...  \n",
       "2022-11-04     True\n",
       "2022-11-07     True\n",
       "2022-11-08     True\n",
       "2022-11-10     True\n",
       "2022-11-11     True\n",
       "Length: 1258, dtype: bool"
      ]
     },
     "execution_count": 22,
     "metadata": {},
     "output_type": "execute_result"
    }
   ],
   "source": [
    "EA[\"Close\"] == EA[\"Adj Close\"]"
   ]
  },
  {
   "cell_type": "code",
   "execution_count": 23,
   "metadata": {},
   "outputs": [
    {
     "data": {
      "text/plain": [
       "Date\n",
       "2017-11-13    False\n",
       "2017-11-14    False\n",
       "2017-11-15    False\n",
       "2017-11-16    False\n",
       "2017-11-17    False\n",
       "              ...  \n",
       "2022-11-07     True\n",
       "2022-11-08     True\n",
       "2022-11-09     True\n",
       "2022-11-10     True\n",
       "2022-11-11     True\n",
       "Length: 1259, dtype: bool"
      ]
     },
     "execution_count": 23,
     "metadata": {},
     "output_type": "execute_result"
    }
   ],
   "source": [
    "MAR[\"Close\"] == MAR[\"Adj Close\"]"
   ]
  },
  {
   "cell_type": "code",
   "execution_count": null,
   "metadata": {},
   "outputs": [],
   "source": [
    "#Answer 1, there isn't company with no difference between Close and Adj Close prices"
   ]
  },
  {
   "cell_type": "code",
   "execution_count": 51,
   "metadata": {},
   "outputs": [
    {
     "name": "stdout",
     "output_type": "stream",
     "text": [
      "Min, Max\n",
      "ABC: (66.3444595336914, 164.20936584472656)\n",
      "CTAS: (140.4072265625, 454.88616943359375)\n",
      "DPZ: (165.92910766601562, 564.3300170898438)\n",
      "EA: (74.43951416015625, 148.60855102539062)\n",
      "MAR: (59.08000183105469, 190.3000030517578)\n"
     ]
    }
   ],
   "source": [
    "company_names = [\"ABC\", \"CTAS\", \"DPZ\", \"EA\", \"MAR\"]\n",
    "\n",
    "\n",
    "prices_ABC = ABC[\"Adj Close\"]\n",
    "prices_CTAS = CTAS[\"Adj Close\"]\n",
    "prices_DPZ = DPZ[\"Adj Close\"]\n",
    "prices_EA = EA[\"Adj Close\"]\n",
    "prices_MAR = MAR[\"Adj Close\"]\n",
    "\n",
    "\n",
    "\n",
    "#Answer 2\n",
    "\n",
    "print(\"Min, Max\")\n",
    "print(f'ABC: {prices_ABC.min(), prices_ABC.max()}')\n",
    "print(f'CTAS: {prices_CTAS.min(), prices_CTAS.max()}')\n",
    "print(f'DPZ: {prices_DPZ.min(), prices_DPZ.max()}')\n",
    "print(f'EA: {prices_EA.min(), prices_EA.max()}')\n",
    "print(f'MAR: {prices_MAR.min(), prices_MAR.max()}')"
   ]
  },
  {
   "cell_type": "code",
   "execution_count": 76,
   "metadata": {},
   "outputs": [
    {
     "name": "stdout",
     "output_type": "stream",
     "text": [
      "-inf 1.8656303570922967 -inf -0.0833835992178659\n",
      "-inf 3.145875824924496 -inf 0.8263652282681025\n",
      "-3.9125724727667714 3.294353969095915 0.9369189026718485 1.0851966915030964\n",
      "-inf 2.252343298937357 -inf 0.08618133592108519\n",
      "-inf 2.5079718233131993 -inf 0.32930330804066044\n"
     ]
    },
    {
     "name": "stderr",
     "output_type": "stream",
     "text": [
      "c:\\Users\\fazol\\anaconda3\\Lib\\site-packages\\pandas\\core\\arraylike.py:396: RuntimeWarning: divide by zero encountered in log\n",
      "  result = getattr(ufunc, method)(*inputs, **kwargs)\n",
      "c:\\Users\\fazol\\anaconda3\\Lib\\site-packages\\pandas\\core\\arraylike.py:396: RuntimeWarning: invalid value encountered in log\n",
      "  result = getattr(ufunc, method)(*inputs, **kwargs)\n"
     ]
    }
   ],
   "source": [
    "#Answer 3 \n",
    "\n",
    "log_returns_ABC = np.log(ABC[\"Open\"] - ABC[\"Close\"])\n",
    "log_returns_ABC  # Remember that there are missing values bcs /0 cant be done\n",
    "\n",
    "log_returns_CTAS = np.log(CTAS[\"Open\"] - CTAS[\"Close\"])\n",
    "log_returns_DPZ = np.log(DPZ[\"Open\"] - DPZ[\"Close\"])\n",
    "log_returns_EA = np.log(EA[\"Open\"] - EA[\"Close\"])\n",
    "log_returns_MAR = np.log(MAR[\"Open\"] - MAR[\"Close\"])\n",
    "\n",
    "log_returns = [log_returns_ABC, log_returns_CTAS, log_returns_DPZ, log_returns_EA, log_returns_MAR]\n",
    "\n",
    "for log in log_returns:\n",
    "    \n",
    "    print(log.min(),  log.max(), log.mean(), log.median())\n"
   ]
  },
  {
   "cell_type": "code",
   "execution_count": 82,
   "metadata": {},
   "outputs": [
    {
     "name": "stdout",
     "output_type": "stream",
     "text": [
      "2022-06-01 00:00:00 2020-01-10 00:00:00\n",
      "2020-09-23 00:00:00 2018-02-27 00:00:00\n",
      "2020-03-20 00:00:00 2020-06-25 00:00:00\n",
      "2021-10-06 00:00:00 2018-01-03 00:00:00\n",
      "2020-03-17 00:00:00 2019-04-23 00:00:00\n"
     ]
    }
   ],
   "source": [
    "#Answer 4\n",
    "\n",
    "print(log_returns_ABC.idxmax(),\n",
    "log_returns_ABC.idxmin())\n",
    "\n",
    "print(log_returns_CTAS.idxmax(),\n",
    "log_returns_CTAS.idxmin())\n",
    "\n",
    "print(log_returns_DPZ.idxmax(),\n",
    "log_returns_DPZ.idxmin())\n",
    "\n",
    "print(log_returns_EA.idxmax(),\n",
    "log_returns_EA.idxmin())\n",
    "\n",
    "print(log_returns_MAR.idxmax(),\n",
    "log_returns_MAR.idxmin())"
   ]
  },
  {
   "cell_type": "code",
   "execution_count": 86,
   "metadata": {},
   "outputs": [],
   "source": [
    "#Answer 6\n",
    "\n",
    "return_ABC = sum(ABC[\"Open\"]-ABC[\"Close\"])\n",
    "return_CTAS = sum(CTAS[\"Open\"]-CTAS[\"Close\"])\n",
    "return_DPZ = sum(DPZ[\"Open\"]-DPZ[\"Close\"])\n",
    "return_EA = sum(EA[\"Open\"]-EA[\"Close\"])\n",
    "return_MAR = sum(MAR[\"Open\"]-MAR[\"Close\"])"
   ]
  },
  {
   "cell_type": "code",
   "execution_count": 89,
   "metadata": {},
   "outputs": [
    {
     "name": "stdout",
     "output_type": "stream",
     "text": [
      "-59.28008270263635\n",
      "-67.56997680664139\n",
      "-176.30975341796966\n",
      "48.350151062012\n",
      "9.300083160400234\n"
     ]
    }
   ],
   "source": [
    "print(return_ABC)\n",
    "print(return_CTAS)\n",
    "print(return_DPZ)\n",
    "print(return_EA)\n",
    "print(return_MAR)\n",
    "\n",
    "#EA recorded the highest total return"
   ]
  },
  {
   "cell_type": "code",
   "execution_count": null,
   "metadata": {},
   "outputs": [],
   "source": []
  }
 ],
 "metadata": {
  "kernelspec": {
   "display_name": "base",
   "language": "python",
   "name": "python3"
  },
  "language_info": {
   "codemirror_mode": {
    "name": "ipython",
    "version": 3
   },
   "file_extension": ".py",
   "mimetype": "text/x-python",
   "name": "python",
   "nbconvert_exporter": "python",
   "pygments_lexer": "ipython3",
   "version": "3.11.5"
  }
 },
 "nbformat": 4,
 "nbformat_minor": 2
}
